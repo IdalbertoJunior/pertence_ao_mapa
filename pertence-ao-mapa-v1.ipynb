{
  "nbformat": 4,
  "nbformat_minor": 0,
  "metadata": {
    "colab": {
      "provenance": [],
      "authorship_tag": "ABX9TyPHuMoiTd7eknhlP2u3aJPU"
    },
    "kernelspec": {
      "name": "python3",
      "display_name": "Python 3"
    },
    "language_info": {
      "name": "python"
    }
  },
  "cells": [
    {
      "cell_type": "code",
      "execution_count": null,
      "metadata": {
        "id": "c_pI7zovdEfT"
      },
      "outputs": [],
      "source": [
        "!pip install geopandas"
      ]
    },
    {
      "cell_type": "code",
      "source": [
        "import geopandas as gpd\n",
        "import pandas as pd\n",
        "import numpy\n",
        "from fiona.drvsupport import supported_drivers\n",
        "from shapely.geometry import Point, Polygon\n"
      ],
      "metadata": {
        "id": "achdvctTdHQZ"
      },
      "execution_count": null,
      "outputs": []
    },
    {
      "cell_type": "markdown",
      "source": [
        "Salvando a Leitura do arquivo KML em uma variável."
      ],
      "metadata": {
        "id": "yqrGfGh-iVal"
      }
    },
    {
      "cell_type": "code",
      "source": [
        "supported_drivers['KML'] = 'rw'\n",
        "meu_mapa = gpd.read_file('mapa1.kml', driver='KML')\n",
        "meu_mapa"
      ],
      "metadata": {
        "id": "gHxeVf_TdJc2"
      },
      "execution_count": null,
      "outputs": []
    },
    {
      "cell_type": "markdown",
      "source": [
        "meu_mapa é do tipo geopandas.geodataframe.GeoDataFrame."
      ],
      "metadata": {
        "id": "I_qyX4mbtdIh"
      }
    },
    {
      "cell_type": "markdown",
      "source": [
        "Abrindo o arquivo .txt que contem as coordenadas para verificação.\n",
        "\n",
        "Separando latitude/longitude."
      ],
      "metadata": {
        "id": "LvzQ92gnilpt"
      }
    },
    {
      "cell_type": "code",
      "source": [
        "with open('teste.txt', 'r') as f:\n",
        "    lines = f.readlines()[-1]\n",
        "    lines = lines.split(',')\n",
        "    latitude = lines [0]\n",
        "    longitude = lines[1]\n",
        "    #print(\"long:{}\\nlat:{}\".format(longitude,latitude))\n",
        "    f.close()"
      ],
      "metadata": {
        "id": "kPkcmBUEdO1N"
      },
      "execution_count": null,
      "outputs": []
    },
    {
      "cell_type": "markdown",
      "source": [
        "longitude/latitude é do tipo string (str)."
      ],
      "metadata": {
        "id": "okcF_50qtzOh"
      }
    },
    {
      "cell_type": "markdown",
      "source": [
        "Convertendo os dados string em float."
      ],
      "metadata": {
        "id": "mYJMR0bot65b"
      }
    },
    {
      "cell_type": "code",
      "source": [
        "latit = float(latitude)\n",
        "longt = float(longitude)\n",
        "ponto_geometrico = Point(longt,latit)\n",
        "#print(\"Point: {}\\nLongitude: {}\\tLatitude: {}\".format(ponto_geometrico,longt,latit))\n",
        "#ponto_geometrico é do tipo shapely.geometry.point.Point"
      ],
      "metadata": {
        "id": "gMEiQ6TfyUwd"
      },
      "execution_count": null,
      "outputs": []
    },
    {
      "cell_type": "markdown",
      "source": [
        "Verificando se os pontos pertencem ao mapa KML.\n",
        "\n",
        "A variavel verificação é do tipo numpy.bool_, sendo necessario converter para o tipo string."
      ],
      "metadata": {
        "id": "O08Kcq8-l-xj"
      }
    },
    {
      "cell_type": "code",
      "source": [
        "verificacao = ponto_geometrico.within(meu_mapa.geometry)\n",
        "verificacao = verificacao.any()\n",
        "verificacao = str(verificacao)"
      ],
      "metadata": {
        "id": "c-gppQlQBnnI"
      },
      "execution_count": null,
      "outputs": []
    },
    {
      "cell_type": "markdown",
      "source": [
        "Abrindo arquivo .txt e salvando se o pontos faz ou não parte do mapa (True/False)."
      ],
      "metadata": {
        "id": "zBaInGKKmH7Z"
      }
    },
    {
      "cell_type": "code",
      "source": [
        "with open('teste.txt','a') as f:\n",
        "  f.write(',{}\\n'.format(verificacao))\n",
        "  f.close()"
      ],
      "metadata": {
        "id": "9QCSfJl9FqyB"
      },
      "execution_count": null,
      "outputs": []
    },
    {
      "cell_type": "markdown",
      "source": [
        "----------------------------------------------------------------------------------------------------------------------------------------------------------------"
      ],
      "metadata": {
        "id": "jrXiIzWQuxoB"
      }
    },
    {
      "cell_type": "markdown",
      "source": [
        "O Folium é uma biblioteca para visualização de mapas em formato GeoJSON."
      ],
      "metadata": {
        "id": "5B4L1sbFvdV1"
      }
    },
    {
      "cell_type": "markdown",
      "source": [
        "Converta o arquivo KML em GeoJSON e insira no mapa."
      ],
      "metadata": {
        "id": "48q3Ua3xvpm5"
      }
    },
    {
      "cell_type": "code",
      "source": [
        "import folium\n",
        "import json"
      ],
      "metadata": {
        "id": "JQJJuqW6rKTE"
      },
      "execution_count": null,
      "outputs": []
    },
    {
      "cell_type": "code",
      "source": [
        "fig = folium.Map([longt,latit], zoom_start=13)"
      ],
      "metadata": {
        "id": "0q2kl_oWrNmS"
      },
      "execution_count": null,
      "outputs": []
    },
    {
      "cell_type": "code",
      "source": [
        "geo_json_mapa = json.load(open('mapa1.geojson'))\n",
        "folium.Choropleth(\n",
        "    geo_data = geo_json_mapa,\n",
        "    fill_color = \"steelblue\",\n",
        "    fill_opacity = 0.4,\n",
        "    line_color = \"steelblue\",\n",
        "    line_opacity = 0.9\n",
        ").add_to(fig)\n"
      ],
      "metadata": {
        "colab": {
          "base_uri": "https://localhost:8080/"
        },
        "id": "bjZb-iFJrRPP",
        "outputId": "d457c7a5-7fd2-4c62-8988-1d9b93d97b46"
      },
      "execution_count": null,
      "outputs": [
        {
          "output_type": "execute_result",
          "data": {
            "text/plain": [
              "<folium.features.Choropleth at 0x7ff277eb6cd0>"
            ]
          },
          "metadata": {},
          "execution_count": 10
        }
      ]
    },
    {
      "cell_type": "code",
      "source": [
        "folium.Marker(location =[longt,latit]).add_to(fig)\n"
      ],
      "metadata": {
        "colab": {
          "base_uri": "https://localhost:8080/"
        },
        "id": "0Jflq5a3sEBR",
        "outputId": "4d665d3b-14c9-4d32-958d-c344aaaf691a"
      },
      "execution_count": null,
      "outputs": [
        {
          "output_type": "execute_result",
          "data": {
            "text/plain": [
              "<folium.map.Marker at 0x7ff2696bcdc0>"
            ]
          },
          "metadata": {},
          "execution_count": 11
        }
      ]
    },
    {
      "cell_type": "code",
      "source": [
        "fig"
      ],
      "metadata": {
        "id": "Cpn-KQeiNDQH"
      },
      "execution_count": null,
      "outputs": []
    }
  ]
}
